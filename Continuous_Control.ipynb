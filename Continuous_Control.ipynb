{
 "cells": [
  {
   "cell_type": "markdown",
   "metadata": {},
   "source": [
    "# Continuous Control\n",
    "\n",
    "---\n",
    "\n",
    "You are welcome to use this coding environment to train your agent for the project.  Follow the instructions below to get started!\n",
    "\n",
    "### 1. Start the Environment\n",
    "\n",
    "Run the next code cell to install a few packages.  This line will take a few minutes to run!"
   ]
  },
  {
   "cell_type": "code",
   "execution_count": 1,
   "metadata": {},
   "outputs": [
    {
     "name": "stdout",
     "output_type": "stream",
     "text": [
      "\u001b[31mtensorflow 1.7.1 has requirement numpy>=1.13.3, but you'll have numpy 1.12.1 which is incompatible.\u001b[0m\r\n",
      "\u001b[31mipython 6.5.0 has requirement prompt-toolkit<2.0.0,>=1.0.15, but you'll have prompt-toolkit 2.0.9 which is incompatible.\u001b[0m\r\n"
     ]
    }
   ],
   "source": [
    "!pip -q install ./python"
   ]
  },
  {
   "cell_type": "markdown",
   "metadata": {},
   "source": [
    "The environments corresponding to both versions of the environment are already saved in the Workspace and can be accessed at the file paths provided below.  \n",
    "\n",
    "Please select one of the two options below for loading the environment."
   ]
  },
  {
   "cell_type": "code",
   "execution_count": 2,
   "metadata": {},
   "outputs": [
    {
     "name": "stderr",
     "output_type": "stream",
     "text": [
      "INFO:unityagents:\n",
      "'Academy' started successfully!\n",
      "Unity Academy name: Academy\n",
      "        Number of Brains: 1\n",
      "        Number of External Brains : 1\n",
      "        Lesson number : 0\n",
      "        Reset Parameters :\n",
      "\t\tgoal_speed -> 1.0\n",
      "\t\tgoal_size -> 5.0\n",
      "Unity brain name: ReacherBrain\n",
      "        Number of Visual Observations (per agent): 0\n",
      "        Vector Observation space type: continuous\n",
      "        Vector Observation space size (per agent): 33\n",
      "        Number of stacked Vector Observation: 1\n",
      "        Vector Action space type: continuous\n",
      "        Vector Action space size (per agent): 4\n",
      "        Vector Action descriptions: , , , \n"
     ]
    }
   ],
   "source": [
    "from unityagents import UnityEnvironment\n",
    "import numpy as np\n",
    "\n",
    "# select this option to load version 1 (with a single agent) of the environment\n",
    "#env = UnityEnvironment(file_name='/data/Reacher_One_Linux_NoVis/Reacher_One_Linux_NoVis.x86_64')\n",
    "\n",
    "# select this option to load version 2 (with 20 agents) of the environment\n",
    "env = UnityEnvironment(file_name='/data/Reacher_Linux_NoVis/Reacher.x86_64')"
   ]
  },
  {
   "cell_type": "markdown",
   "metadata": {},
   "source": [
    "Environments contain **_brains_** which are responsible for deciding the actions of their associated agents. Here we check for the first brain available, and set it as the default brain we will be controlling from Python."
   ]
  },
  {
   "cell_type": "code",
   "execution_count": 3,
   "metadata": {},
   "outputs": [],
   "source": [
    "# get the default brain\n",
    "brain_name = env.brain_names[0]\n",
    "brain = env.brains[brain_name]"
   ]
  },
  {
   "cell_type": "markdown",
   "metadata": {},
   "source": [
    "### 2. Examine the State and Action Spaces\n",
    "\n",
    "Run the code cell below to print some information about the environment."
   ]
  },
  {
   "cell_type": "code",
   "execution_count": 4,
   "metadata": {},
   "outputs": [
    {
     "name": "stdout",
     "output_type": "stream",
     "text": [
      "Number of agents: 20\n",
      "Size of each action: 4\n",
      "There are 20 agents. Each observes a state with length: 33\n",
      "The state for the first agent looks like: [  0.00000000e+00  -4.00000000e+00   0.00000000e+00   1.00000000e+00\n",
      "  -0.00000000e+00  -0.00000000e+00  -4.37113883e-08   0.00000000e+00\n",
      "   0.00000000e+00   0.00000000e+00   0.00000000e+00   0.00000000e+00\n",
      "   0.00000000e+00   0.00000000e+00  -1.00000000e+01   0.00000000e+00\n",
      "   1.00000000e+00  -0.00000000e+00  -0.00000000e+00  -4.37113883e-08\n",
      "   0.00000000e+00   0.00000000e+00   0.00000000e+00   0.00000000e+00\n",
      "   0.00000000e+00   0.00000000e+00   5.75471878e+00  -1.00000000e+00\n",
      "   5.55726624e+00   0.00000000e+00   1.00000000e+00   0.00000000e+00\n",
      "  -1.68164849e-01]\n"
     ]
    }
   ],
   "source": [
    "# reset the environment\n",
    "env_info = env.reset(train_mode=True)[brain_name]\n",
    "\n",
    "# number of agents\n",
    "num_agents = len(env_info.agents)\n",
    "print('Number of agents:', num_agents)\n",
    "\n",
    "# size of each action\n",
    "action_size = brain.vector_action_space_size\n",
    "print('Size of each action:', action_size)\n",
    "\n",
    "# examine the state space \n",
    "states = env_info.vector_observations\n",
    "state_size = states.shape[1]\n",
    "#Load the save weights since my worksapce went to sleep so and i'm restarting form where i left off. \n",
    "#Previously i was elarning whenever i had enough data point in memory but this was taking 4 mins per episode\n",
    "#I've made a performance improvement to learn after 20 to redunce traing time. \n",
    "print('There are {} agents. Each observes a state with length: {}'.format(states.shape[0], state_size))\n",
    "print('The state for the first agent looks like:', states[0])"
   ]
  },
  {
   "cell_type": "markdown",
   "metadata": {},
   "source": [
    "### 3. Take Random Actions in the Environment\n",
    "\n",
    "In the next code cell, you will learn how to use the Python API to control the agent and receive feedback from the environment.\n",
    "\n",
    "Note that **in this coding environment, you will not be able to watch the agents while they are training**, and you should set `train_mode=True` to restart the environment."
   ]
  },
  {
   "cell_type": "code",
   "execution_count": 5,
   "metadata": {},
   "outputs": [
    {
     "name": "stdout",
     "output_type": "stream",
     "text": [
      "Total score (averaged over agents) this episode: 0.181999995931983\n"
     ]
    }
   ],
   "source": [
    "env_info = env.reset(train_mode=True)[brain_name]      # reset the environment    \n",
    "states = env_info.vector_observations                  # get the current state (for each agent)\n",
    "scores = np.zeros(num_agents)                          # initialize the score (for each agent)\n",
    "while True:\n",
    "    actions = np.random.randn(num_agents, action_size) # select an action (for each agent)\n",
    "    actions = np.clip(actions, -1, 1)                  # all actions between -1 and 1\n",
    "    env_info = env.step(actions)[brain_name]           # send all actions to tne environment\n",
    "    next_states = env_info.vector_observations         # get next state (for each agent)\n",
    "    rewards = env_info.rewards                         # get reward (for each agent)\n",
    "    dones = env_info.local_done                        # see if episode finished\n",
    "    scores += env_info.rewards                         # update the score (for each agent)\n",
    "    states = next_states                               # roll over states to next time step\n",
    "    if np.any(dones):                                  # exit loop if episode finished\n",
    "        break\n",
    "print('Total score (averaged over agents) this episode: {}'.format(np.mean(scores)))"
   ]
  },
  {
   "cell_type": "code",
   "execution_count": 6,
   "metadata": {},
   "outputs": [
    {
     "name": "stdout",
     "output_type": "stream",
     "text": [
      "(20, 4)\n",
      "(20, 33)\n",
      "20\n"
     ]
    }
   ],
   "source": [
    "print(actions.shape)\n",
    "print(next_states.shape)\n",
    "print(len(rewards))"
   ]
  },
  {
   "cell_type": "markdown",
   "metadata": {},
   "source": [
    "### 4. It's Your Turn!\n",
    "\n",
    "Now it's your turn to train your own agent to solve the environment!  A few **important notes**:\n",
    "- When training the environment, set `train_mode=True`, so that the line for resetting the environment looks like the following:\n",
    "```python\n",
    "env_info = env.reset(train_mode=True)[brain_name]\n",
    "```\n",
    "- To structure your work, you're welcome to work directly in this Jupyter notebook, or you might like to start over with a new file!  You can see the list of files in the workspace by clicking on **_Jupyter_** in the top left corner of the notebook.\n",
    "- In this coding environment, you will not be able to watch the agents while they are training.  However, **_after training the agents_**, you can download the saved model weights to watch the agents on your own machine! "
   ]
  },
  {
   "cell_type": "markdown",
   "metadata": {},
   "source": [
    "### Training a DDPG Agent"
   ]
  },
  {
   "cell_type": "code",
   "execution_count": 7,
   "metadata": {},
   "outputs": [],
   "source": [
    "import random\n",
    "import torch\n",
    "import time\n",
    "\n",
    "from collections import deque\n",
    "import matplotlib.pyplot as plt\n",
    "%matplotlib inline\n",
    "\n",
    "from ddpg_agent import Agent, ReplayBuffer\n",
    "\n",
    "random_seed = random.randint(1,25)\n",
    "#random_seed = 7\n",
    "train_mode = True\n",
    "\n",
    "agent = Agent(state_size=state_size, action_size=action_size, random_seed=random_seed)\n",
    "# Load the saved weights into Pytorch model\n",
    "#agent.actor_local.load_state_dict(torch.load('checkpoint_actor.pth', map_location='cpu'))\n",
    "#agent.critic_local.load_state_dict(torch.load('checkpoint_critic.pth', map_location='cpu'))"
   ]
  },
  {
   "cell_type": "code",
   "execution_count": 8,
   "metadata": {},
   "outputs": [
    {
     "name": "stdout",
     "output_type": "stream",
     "text": [
      "Episode 1\tTotal Average Score: 3.38\tMean: 3.38\tMin: 0.66\tMax: 5.64\tDuration: 11.21\n",
      "Episode 2\tTotal Average Score: 2.14\tMean: 0.89\tMin: 0.00\tMax: 1.90\tDuration: 12.07\n",
      "Episode 3\tTotal Average Score: 1.76\tMean: 1.02\tMin: 0.27\tMax: 3.13\tDuration: 12.26\n",
      "Episode 4\tTotal Average Score: 1.58\tMean: 1.02\tMin: 0.20\tMax: 3.81\tDuration: 12.71\n",
      "Episode 5\tTotal Average Score: 1.47\tMean: 1.01\tMin: 0.11\tMax: 3.01\tDuration: 12.14\n",
      "Episode 6\tTotal Average Score: 1.33\tMean: 0.64\tMin: 0.06\tMax: 2.15\tDuration: 11.70\n",
      "Episode 7\tTotal Average Score: 1.30\tMean: 1.11\tMin: 0.18\tMax: 2.62\tDuration: 11.88\n",
      "Episode 8\tTotal Average Score: 1.34\tMean: 1.63\tMin: 0.36\tMax: 3.36\tDuration: 11.33\n",
      "Episode 9\tTotal Average Score: 1.41\tMean: 1.95\tMin: 0.65\tMax: 4.54\tDuration: 12.54\n",
      "Episode 10\tTotal Average Score: 1.52\tMean: 2.55\tMin: 0.64\tMax: 8.75\tDuration: 11.78\n",
      "Episode 10\tTotal Average Score: 1.52\n",
      "Episode 11\tTotal Average Score: 1.61\tMean: 2.45\tMin: 0.48\tMax: 4.74\tDuration: 12.76\n",
      "Episode 12\tTotal Average Score: 1.68\tMean: 2.55\tMin: 0.33\tMax: 5.15\tDuration: 11.79\n",
      "Episode 13\tTotal Average Score: 1.78\tMean: 2.91\tMin: 0.98\tMax: 5.81\tDuration: 12.24\n",
      "Episode 14\tTotal Average Score: 1.83\tMean: 2.54\tMin: 0.81\tMax: 5.34\tDuration: 12.06\n",
      "Episode 15\tTotal Average Score: 1.91\tMean: 2.94\tMin: 1.83\tMax: 4.50\tDuration: 13.09\n",
      "Episode 16\tTotal Average Score: 1.96\tMean: 2.76\tMin: 1.42\tMax: 4.84\tDuration: 12.84\n",
      "Episode 17\tTotal Average Score: 2.02\tMean: 2.93\tMin: 1.25\tMax: 8.35\tDuration: 12.54\n",
      "Episode 18\tTotal Average Score: 2.11\tMean: 3.69\tMin: 0.52\tMax: 7.04\tDuration: 13.79\n",
      "Episode 19\tTotal Average Score: 2.17\tMean: 3.32\tMin: 1.17\tMax: 6.12\tDuration: 13.09\n",
      "Episode 20\tTotal Average Score: 2.25\tMean: 3.73\tMin: 1.68\tMax: 8.66\tDuration: 13.47\n",
      "Episode 20\tTotal Average Score: 2.25\n",
      "Episode 21\tTotal Average Score: 2.29\tMean: 3.10\tMin: 1.27\tMax: 6.85\tDuration: 13.47\n",
      "Episode 22\tTotal Average Score: 2.34\tMean: 3.44\tMin: 0.68\tMax: 8.34\tDuration: 13.42\n",
      "Episode 23\tTotal Average Score: 2.46\tMean: 4.97\tMin: 1.25\tMax: 8.90\tDuration: 13.62\n",
      "Episode 24\tTotal Average Score: 2.55\tMean: 4.70\tMin: 1.04\tMax: 8.14\tDuration: 12.89\n",
      "Episode 25\tTotal Average Score: 2.67\tMean: 5.51\tMin: 1.11\tMax: 8.47\tDuration: 13.55\n",
      "Episode 26\tTotal Average Score: 2.75\tMean: 4.76\tMin: 0.00\tMax: 9.74\tDuration: 14.22\n",
      "Episode 27\tTotal Average Score: 2.82\tMean: 4.76\tMin: 0.62\tMax: 7.58\tDuration: 14.09\n",
      "Episode 28\tTotal Average Score: 2.91\tMean: 5.10\tMin: 2.38\tMax: 8.65\tDuration: 14.98\n",
      "Episode 29\tTotal Average Score: 3.03\tMean: 6.38\tMin: 1.98\tMax: 18.08\tDuration: 14.51\n",
      "Episode 30\tTotal Average Score: 3.11\tMean: 5.56\tMin: 1.05\tMax: 8.45\tDuration: 14.55\n",
      "Episode 30\tTotal Average Score: 3.11\n",
      "Episode 31\tTotal Average Score: 3.18\tMean: 5.17\tMin: 2.17\tMax: 9.86\tDuration: 14.17\n",
      "Episode 32\tTotal Average Score: 3.28\tMean: 6.38\tMin: 1.39\tMax: 10.77\tDuration: 14.27\n",
      "Episode 33\tTotal Average Score: 3.33\tMean: 4.94\tMin: 1.82\tMax: 12.66\tDuration: 14.56\n",
      "Episode 34\tTotal Average Score: 3.42\tMean: 6.46\tMin: 2.07\tMax: 12.43\tDuration: 14.86\n",
      "Episode 35\tTotal Average Score: 3.48\tMean: 5.38\tMin: 2.34\tMax: 9.09\tDuration: 15.17\n",
      "Episode 36\tTotal Average Score: 3.55\tMean: 6.30\tMin: 2.82\tMax: 9.65\tDuration: 15.73\n",
      "Episode 37\tTotal Average Score: 3.59\tMean: 4.92\tMin: 1.87\tMax: 9.24\tDuration: 16.26\n",
      "Episode 38\tTotal Average Score: 3.65\tMean: 5.72\tMin: 2.23\tMax: 8.88\tDuration: 15.99\n",
      "Episode 39\tTotal Average Score: 3.70\tMean: 5.64\tMin: 2.26\tMax: 8.85\tDuration: 15.89\n",
      "Episode 40\tTotal Average Score: 3.77\tMean: 6.75\tMin: 3.37\tMax: 12.26\tDuration: 14.42\n",
      "Episode 40\tTotal Average Score: 3.77\n",
      "Episode 41\tTotal Average Score: 3.81\tMean: 5.27\tMin: 2.24\tMax: 9.16\tDuration: 16.49\n",
      "Episode 42\tTotal Average Score: 3.88\tMean: 6.76\tMin: 2.94\tMax: 17.41\tDuration: 15.82\n",
      "Episode 43\tTotal Average Score: 3.94\tMean: 6.54\tMin: 2.83\tMax: 10.14\tDuration: 16.75\n",
      "Episode 44\tTotal Average Score: 3.98\tMean: 5.67\tMin: 2.65\tMax: 8.27\tDuration: 16.57\n",
      "Episode 45\tTotal Average Score: 4.08\tMean: 8.59\tMin: 4.08\tMax: 12.38\tDuration: 16.54\n",
      "Episode 46\tTotal Average Score: 4.17\tMean: 7.82\tMin: 2.53\tMax: 14.83\tDuration: 17.11\n",
      "Episode 47\tTotal Average Score: 4.23\tMean: 7.06\tMin: 4.37\tMax: 11.07\tDuration: 17.08\n",
      "Episode 48\tTotal Average Score: 4.30\tMean: 7.90\tMin: 3.67\tMax: 13.31\tDuration: 16.99\n",
      "Episode 49\tTotal Average Score: 4.40\tMean: 9.00\tMin: 3.86\tMax: 15.15\tDuration: 17.24\n",
      "Episode 50\tTotal Average Score: 4.48\tMean: 8.26\tMin: 2.16\tMax: 14.10\tDuration: 17.77\n",
      "Episode 50\tTotal Average Score: 4.48\n",
      "Episode 51\tTotal Average Score: 4.54\tMean: 7.83\tMin: 2.70\tMax: 15.37\tDuration: 17.70\n",
      "Episode 52\tTotal Average Score: 4.64\tMean: 9.63\tMin: 3.07\tMax: 14.83\tDuration: 17.48\n",
      "Episode 53\tTotal Average Score: 4.75\tMean: 10.28\tMin: 6.05\tMax: 16.81\tDuration: 17.01\n",
      "Episode 54\tTotal Average Score: 4.83\tMean: 9.13\tMin: 4.94\tMax: 14.43\tDuration: 17.03\n",
      "Episode 55\tTotal Average Score: 4.93\tMean: 10.16\tMin: 3.43\tMax: 21.05\tDuration: 17.86\n",
      "Episode 56\tTotal Average Score: 5.04\tMean: 11.42\tMin: 7.44\tMax: 13.53\tDuration: 17.49\n",
      "Episode 57\tTotal Average Score: 5.15\tMean: 11.43\tMin: 3.80\tMax: 18.57\tDuration: 17.34\n",
      "Episode 58\tTotal Average Score: 5.30\tMean: 13.72\tMin: 6.54\tMax: 32.30\tDuration: 18.21\n",
      "Episode 59\tTotal Average Score: 5.44\tMean: 13.74\tMin: 6.26\tMax: 26.20\tDuration: 17.53\n",
      "Episode 60\tTotal Average Score: 5.59\tMean: 13.92\tMin: 7.14\tMax: 24.15\tDuration: 16.42\n",
      "Episode 60\tTotal Average Score: 5.59\n",
      "Episode 61\tTotal Average Score: 5.74\tMean: 15.29\tMin: 5.97\tMax: 23.54\tDuration: 15.52\n",
      "Episode 62\tTotal Average Score: 5.96\tMean: 18.88\tMin: 5.46\tMax: 31.81\tDuration: 16.74\n",
      "Episode 63\tTotal Average Score: 6.08\tMean: 13.86\tMin: 5.17\tMax: 22.98\tDuration: 17.07\n",
      "Episode 64\tTotal Average Score: 6.22\tMean: 14.77\tMin: 8.18\tMax: 27.95\tDuration: 17.56\n",
      "Episode 65\tTotal Average Score: 6.38\tMean: 16.62\tMin: 7.70\tMax: 26.03\tDuration: 16.97\n",
      "Episode 66\tTotal Average Score: 6.55\tMean: 17.86\tMin: 6.12\tMax: 27.80\tDuration: 17.44\n",
      "Episode 67\tTotal Average Score: 6.69\tMean: 15.90\tMin: 8.43\tMax: 19.51\tDuration: 16.60\n",
      "Episode 68\tTotal Average Score: 6.86\tMean: 18.04\tMin: 11.66\tMax: 31.90\tDuration: 17.23\n",
      "Episode 69\tTotal Average Score: 7.00\tMean: 16.53\tMin: 9.81\tMax: 23.72\tDuration: 16.68\n",
      "Episode 70\tTotal Average Score: 7.17\tMean: 19.35\tMin: 13.24\tMax: 30.85\tDuration: 17.47\n",
      "Episode 70\tTotal Average Score: 7.17\n",
      "Episode 71\tTotal Average Score: 7.37\tMean: 20.73\tMin: 12.37\tMax: 29.10\tDuration: 16.96\n",
      "Episode 72\tTotal Average Score: 7.55\tMean: 21.01\tMin: 13.63\tMax: 38.66\tDuration: 17.33\n",
      "Episode 73\tTotal Average Score: 7.76\tMean: 22.42\tMin: 14.70\tMax: 27.69\tDuration: 17.72\n",
      "Episode 74\tTotal Average Score: 7.93\tMean: 20.72\tMin: 12.62\tMax: 27.72\tDuration: 17.54\n",
      "Episode 75\tTotal Average Score: 8.12\tMean: 21.58\tMin: 15.23\tMax: 29.05\tDuration: 16.57\n",
      "Episode 76\tTotal Average Score: 8.31\tMean: 22.90\tMin: 9.54\tMax: 37.50\tDuration: 17.17\n",
      "Episode 77\tTotal Average Score: 8.49\tMean: 22.48\tMin: 13.85\tMax: 36.86\tDuration: 16.94\n",
      "Episode 78\tTotal Average Score: 8.68\tMean: 23.25\tMin: 16.74\tMax: 29.02\tDuration: 17.84\n",
      "Episode 79\tTotal Average Score: 8.86\tMean: 22.33\tMin: 14.89\tMax: 37.62\tDuration: 17.40\n",
      "Episode 80\tTotal Average Score: 9.04\tMean: 23.71\tMin: 10.43\tMax: 39.48\tDuration: 17.66\n",
      "Episode 80\tTotal Average Score: 9.04\n",
      "Episode 81\tTotal Average Score: 9.24\tMean: 25.02\tMin: 17.45\tMax: 31.35\tDuration: 16.96\n",
      "Episode 82\tTotal Average Score: 9.42\tMean: 23.94\tMin: 12.99\tMax: 35.73\tDuration: 15.84\n",
      "Episode 83\tTotal Average Score: 9.60\tMean: 24.15\tMin: 14.27\tMax: 30.69\tDuration: 16.49\n",
      "Episode 84\tTotal Average Score: 9.83\tMean: 28.83\tMin: 17.40\tMax: 39.43\tDuration: 17.84\n",
      "Episode 85\tTotal Average Score: 10.04\tMean: 27.90\tMin: 17.18\tMax: 34.11\tDuration: 17.29\n",
      "Episode 86\tTotal Average Score: 10.24\tMean: 27.52\tMin: 16.93\tMax: 35.99\tDuration: 17.99\n",
      "Episode 87\tTotal Average Score: 10.46\tMean: 29.55\tMin: 21.31\tMax: 36.48\tDuration: 17.49\n",
      "Episode 88\tTotal Average Score: 10.68\tMean: 29.87\tMin: 16.98\tMax: 37.00\tDuration: 16.48\n",
      "Episode 89\tTotal Average Score: 10.88\tMean: 27.86\tMin: 17.13\tMax: 35.42\tDuration: 16.60\n",
      "Episode 90\tTotal Average Score: 11.11\tMean: 31.45\tMin: 20.76\tMax: 37.61\tDuration: 16.13\n",
      "Episode 90\tTotal Average Score: 11.11\n",
      "Episode 91\tTotal Average Score: 11.34\tMean: 32.64\tMin: 20.68\tMax: 38.19\tDuration: 17.90\n",
      "Episode 92\tTotal Average Score: 11.57\tMean: 32.29\tMin: 20.17\tMax: 39.49\tDuration: 17.46\n",
      "Episode 93\tTotal Average Score: 11.80\tMean: 33.28\tMin: 25.23\tMax: 38.78\tDuration: 17.46\n",
      "Episode 94\tTotal Average Score: 12.05\tMean: 34.60\tMin: 29.84\tMax: 37.78\tDuration: 18.16\n",
      "Episode 95\tTotal Average Score: 12.24\tMean: 30.85\tMin: 17.06\tMax: 38.51\tDuration: 17.48\n",
      "Episode 96\tTotal Average Score: 12.44\tMean: 31.42\tMin: 23.40\tMax: 37.36\tDuration: 16.91\n",
      "Episode 97\tTotal Average Score: 12.68\tMean: 35.32\tMin: 30.14\tMax: 38.16\tDuration: 15.50\n",
      "Episode 98\tTotal Average Score: 12.90\tMean: 34.65\tMin: 25.25\tMax: 38.00\tDuration: 17.72\n",
      "Episode 99\tTotal Average Score: 13.13\tMean: 35.68\tMin: 28.59\tMax: 39.59\tDuration: 17.94\n",
      "Episode 100\tTotal Average Score: 13.34\tMean: 33.60\tMin: 30.30\tMax: 37.72\tDuration: 17.71\n",
      "Episode 100\tTotal Average Score: 13.34\n",
      "Episode 101\tTotal Average Score: 13.66\tMean: 35.10\tMin: 27.36\tMax: 39.03\tDuration: 17.89\n",
      "Episode 102\tTotal Average Score: 14.00\tMean: 34.96\tMin: 28.53\tMax: 39.43\tDuration: 16.41\n",
      "Episode 103\tTotal Average Score: 14.34\tMean: 35.13\tMin: 29.82\tMax: 39.48\tDuration: 15.86\n",
      "Episode 104\tTotal Average Score: 14.68\tMean: 35.55\tMin: 30.00\tMax: 38.72\tDuration: 17.02\n",
      "Episode 105\tTotal Average Score: 15.02\tMean: 34.37\tMin: 28.50\tMax: 38.59\tDuration: 17.66\n",
      "Episode 106\tTotal Average Score: 15.36\tMean: 35.51\tMin: 29.32\tMax: 39.37\tDuration: 17.42\n",
      "Episode 107\tTotal Average Score: 15.72\tMean: 36.97\tMin: 25.22\tMax: 39.34\tDuration: 17.83\n",
      "Episode 108\tTotal Average Score: 16.06\tMean: 35.63\tMin: 28.96\tMax: 39.38\tDuration: 18.52\n",
      "Episode 109\tTotal Average Score: 16.42\tMean: 37.24\tMin: 32.57\tMax: 39.23\tDuration: 17.48\n",
      "Episode 110\tTotal Average Score: 16.74\tMean: 35.40\tMin: 31.83\tMax: 38.09\tDuration: 15.67\n",
      "Episode 110\tTotal Average Score: 16.74\n",
      "Episode 111\tTotal Average Score: 17.09\tMean: 36.96\tMin: 30.51\tMax: 39.48\tDuration: 16.75\n",
      "Episode 112\tTotal Average Score: 17.45\tMean: 38.50\tMin: 35.64\tMax: 39.64\tDuration: 18.43\n",
      "Episode 113\tTotal Average Score: 17.79\tMean: 37.10\tMin: 27.45\tMax: 39.04\tDuration: 17.20\n",
      "Episode 114\tTotal Average Score: 18.13\tMean: 36.49\tMin: 29.56\tMax: 39.16\tDuration: 17.50\n",
      "Episode 115\tTotal Average Score: 18.48\tMean: 37.98\tMin: 32.64\tMax: 39.64\tDuration: 17.07\n",
      "Episode 116\tTotal Average Score: 18.83\tMean: 37.90\tMin: 30.61\tMax: 39.59\tDuration: 17.20\n",
      "Episode 117\tTotal Average Score: 19.19\tMean: 38.68\tMin: 36.06\tMax: 39.56\tDuration: 16.44\n",
      "Episode 118\tTotal Average Score: 19.53\tMean: 37.55\tMin: 31.67\tMax: 39.42\tDuration: 16.15\n",
      "Episode 119\tTotal Average Score: 19.87\tMean: 37.44\tMin: 34.17\tMax: 39.49\tDuration: 17.39\n",
      "Episode 120\tTotal Average Score: 20.20\tMean: 37.11\tMin: 34.79\tMax: 39.47\tDuration: 17.72\n",
      "Episode 120\tTotal Average Score: 20.20\n",
      "Episode 121\tTotal Average Score: 20.55\tMean: 37.69\tMin: 32.39\tMax: 39.13\tDuration: 17.01\n",
      "Episode 122\tTotal Average Score: 20.90\tMean: 38.51\tMin: 35.98\tMax: 39.56\tDuration: 16.97\n",
      "Episode 123\tTotal Average Score: 21.23\tMean: 37.70\tMin: 34.52\tMax: 39.25\tDuration: 17.98\n",
      "Episode 124\tTotal Average Score: 21.56\tMean: 38.20\tMin: 35.32\tMax: 39.40\tDuration: 16.69\n",
      "Episode 125\tTotal Average Score: 21.89\tMean: 37.92\tMin: 35.00\tMax: 39.62\tDuration: 16.78\n",
      "Episode 126\tTotal Average Score: 22.21\tMean: 36.68\tMin: 32.40\tMax: 39.44\tDuration: 18.40\n",
      "Episode 127\tTotal Average Score: 22.53\tMean: 37.61\tMin: 33.68\tMax: 39.46\tDuration: 17.81\n",
      "Episode 128\tTotal Average Score: 22.86\tMean: 37.67\tMin: 34.85\tMax: 39.49\tDuration: 17.80\n",
      "Episode 129\tTotal Average Score: 23.18\tMean: 38.09\tMin: 35.88\tMax: 39.40\tDuration: 17.48\n",
      "Episode 130\tTotal Average Score: 23.50\tMean: 37.75\tMin: 32.72\tMax: 39.10\tDuration: 17.56\n",
      "Episode 130\tTotal Average Score: 23.50\n",
      "Episode 131\tTotal Average Score: 23.82\tMean: 37.29\tMin: 34.64\tMax: 39.57\tDuration: 16.01\n",
      "Episode 132\tTotal Average Score: 24.13\tMean: 37.16\tMin: 33.76\tMax: 38.60\tDuration: 16.84\n",
      "Episode 133\tTotal Average Score: 24.45\tMean: 37.56\tMin: 35.55\tMax: 38.88\tDuration: 17.93\n",
      "Episode 134\tTotal Average Score: 24.77\tMean: 38.24\tMin: 36.44\tMax: 39.55\tDuration: 18.66\n",
      "Episode 135\tTotal Average Score: 25.09\tMean: 37.30\tMin: 34.72\tMax: 39.01\tDuration: 18.27\n",
      "Episode 136\tTotal Average Score: 25.40\tMean: 37.66\tMin: 35.61\tMax: 39.13\tDuration: 17.80\n",
      "Episode 137\tTotal Average Score: 25.73\tMean: 37.52\tMin: 33.58\tMax: 39.59\tDuration: 17.31\n",
      "Episode 138\tTotal Average Score: 26.05\tMean: 37.98\tMin: 36.53\tMax: 39.15\tDuration: 16.56\n",
      "Episode 139\tTotal Average Score: 26.37\tMean: 37.55\tMin: 30.81\tMax: 39.41\tDuration: 17.72\n",
      "Episode 140\tTotal Average Score: 26.68\tMean: 38.01\tMin: 35.76\tMax: 39.55\tDuration: 17.90\n",
      "Episode 140\tTotal Average Score: 26.68\n",
      "Episode 141\tTotal Average Score: 27.00\tMean: 37.29\tMin: 34.51\tMax: 39.06\tDuration: 17.81\n",
      "Episode 142\tTotal Average Score: 27.32\tMean: 37.91\tMin: 34.32\tMax: 38.84\tDuration: 18.01\n",
      "Episode 143\tTotal Average Score: 27.64\tMean: 38.94\tMin: 36.88\tMax: 39.50\tDuration: 17.40\n",
      "Episode 144\tTotal Average Score: 27.96\tMean: 38.06\tMin: 35.36\tMax: 39.53\tDuration: 17.80\n",
      "Episode 145\tTotal Average Score: 28.26\tMean: 38.66\tMin: 37.34\tMax: 39.51\tDuration: 17.10\n",
      "Episode 146\tTotal Average Score: 28.57\tMean: 38.46\tMin: 35.26\tMax: 39.51\tDuration: 18.16\n",
      "Episode 147\tTotal Average Score: 28.88\tMean: 38.21\tMin: 35.12\tMax: 39.49\tDuration: 17.99\n",
      "Episode 148\tTotal Average Score: 29.18\tMean: 38.04\tMin: 33.81\tMax: 39.47\tDuration: 18.65\n",
      "Episode 149\tTotal Average Score: 29.46\tMean: 36.51\tMin: 35.06\tMax: 38.58\tDuration: 18.33\n",
      "Episode 150\tTotal Average Score: 29.76\tMean: 38.78\tMin: 35.78\tMax: 39.58\tDuration: 16.15\n",
      "Episode 150\tTotal Average Score: 29.76\n",
      "Episode 151\tTotal Average Score: 30.05\tMean: 36.48\tMin: 32.91\tMax: 38.94\tDuration: 16.32\n",
      "Problem Solved after 151 epsisodes!! Total Average score: 30.05\n"
     ]
    }
   ],
   "source": [
    "def ddpg(n_episodes=2000, max_t=1000, print_every=10, learn_every=20, num_learn=10, goal_score=30):\n",
    "    total_scores_deque = deque(maxlen=100)\n",
    "    total_scores = []\n",
    "    \n",
    "    for i_episode in range(1, n_episodes+1):\n",
    "        #Reset the env and the agent\n",
    "        env_info = env.reset(train_mode=train_mode)[brain_name]   # reset the environment \n",
    "        states = env_info.vector_observations # get the crrrent states\n",
    "        scores = np.zeros(num_agents) # initialize the score for each agent\n",
    "        agent.reset()\n",
    "        \n",
    "        start_time = time.time()\n",
    "        \n",
    "        for t in range(max_t):\n",
    "            actions = agent.act(states)\n",
    "            \n",
    "            env_info = env.step(actions)[brain_name]            # send all actions to the environment\n",
    "            next_states = env_info.vector_observations          # get next state (for each agent)\n",
    "            rewards = env_info.rewards                          # get reward (for each agent)\n",
    "            \n",
    "            dones = env_info.local_done                         # see if episode finished\n",
    "            \n",
    "            for state, action, reward, next_state, done in zip(states, actions, rewards, next_states, dones):\n",
    "                agent.step(state, action, reward, next_state, done) # send actions to the agent\n",
    "            \n",
    "            scores += env_info.rewards                           # update the score (for each agent)\n",
    "            states = next_states                                # roll over states to next time step\n",
    "            \n",
    "            if t%learn_every == 0:         \n",
    "                for _ in range(num_learn):\n",
    "                    agent.start_learn()\n",
    "                    \n",
    "            if np.any(dones):                                   # exit loop if episode finished\n",
    "                break\n",
    "    \n",
    "        mean_score = np.mean(scores)\n",
    "        min_score = np.min(scores)\n",
    "        max_score = np.max(scores)\n",
    "        total_scores_deque.append(mean_score)\n",
    "        total_scores.append(mean_score)\n",
    "        total_average_score = np.mean(total_scores_deque)\n",
    "        duration = time.time() - start_time\n",
    "        \n",
    "        print('\\rEpisode {}\\tTotal Average Score: {:.2f}\\tMean: {:.2f}\\tMin: {:.2f}\\tMax: {:.2f}\\tDuration: {:.2f}'\n",
    "              .format(i_episode, total_average_score, mean_score, min_score, max_score, duration))\n",
    "\n",
    "        if i_episode % print_every == 0:\n",
    "            torch.save(agent.actor_local.state_dict(), 'checkpoint_actor.pth')\n",
    "            torch.save(agent.critic_local.state_dict(), 'checkpoint_critic.pth')\n",
    "            print('\\rEpisode {}\\tTotal Average Score: {:.2f}'.format(i_episode, total_average_score))  \n",
    "            \n",
    "        if total_average_score >= goal_score and i_episode >= 100:\n",
    "            print('Problem Solved after {} epsisodes!! Total Average score: {:.2f}'.format(i_episode, total_average_score))\n",
    "            torch.save(agent.actor_local.state_dict(), 'checkpoint_actor.pth')\n",
    "            torch.save(agent.critic_local.state_dict(), 'checkpoint_critic.pth')\n",
    "            break\n",
    "    \n",
    "    return total_scores\n",
    "\n",
    "scores = ddpg()"
   ]
  },
  {
   "cell_type": "markdown",
   "metadata": {},
   "source": [
    "### 5. Plot the result"
   ]
  },
  {
   "cell_type": "code",
   "execution_count": 9,
   "metadata": {},
   "outputs": [
    {
     "data": {
      "image/png": "[encoded data removed]",
      "text/plain": [
       "<matplotlib.figure.Figure at 0x7fecfe2a4a90>"
      ]
     },
     "metadata": {
      "needs_background": "light"
     },
     "output_type": "display_data"
    }
   ],
   "source": [
    "fig = plt.figure()\n",
    "ax = fig.add_subplot(1,1,1)\n",
    "\n",
    "plt.plot(np.arange(1, len(scores)+1), scores)\n",
    "plt.ylabel('Score')\n",
    "plt.xlabel('Episode #')\n",
    "plt.show()"
   ]
  },
  {
   "cell_type": "markdown",
   "metadata": {},
   "source": [
    "### 6. Test the agent with save weights"
   ]
  },
  {
   "cell_type": "code",
   "execution_count": 10,
   "metadata": {},
   "outputs": [
    {
     "name": "stdout",
     "output_type": "stream",
     "text": [
      "Total score: 37.86999915353954\n"
     ]
    }
   ],
   "source": [
    "# Load the saved weights into Pytorch model\n",
    "agent.actor_local.load_state_dict(torch.load('checkpoint_actor.pth', map_location='cpu'))\n",
    "agent.critic_local.load_state_dict(torch.load('checkpoint_critic.pth', map_location='cpu'))\n",
    "\n",
    "env_info = env.reset(train_mode=False)[brain_name]     # reset the environment    \n",
    "states = env_info.vector_observations                  # get the current state (for each agent)\n",
    "scores = np.zeros(num_agents)                          # initialize the score (for each agent)\n",
    "\n",
    "while True:\n",
    "    actions = agent.act(states)                        # select actions from loaded model agent\n",
    "    env_info = env.step(actions)[brain_name]           # send all actions to tne environment\n",
    "    next_states = env_info.vector_observations         # get next state (for each agent)\n",
    "    rewards = env_info.rewards                         # get reward (for each agent)\n",
    "    dones = env_info.local_done                        # see if episode finished\n",
    "    scores += env_info.rewards                         # update the score (for each agent)\n",
    "    states = next_states                               # roll over states to next time step\n",
    "    if np.any(dones):                                  # exit loop if episode finished\n",
    "        break\n",
    "print('Total score: {}'.format(np.mean(scores)))"
   ]
  },
  {
   "cell_type": "markdown",
   "metadata": {},
   "source": [
    "When finished, you can close the environment."
   ]
  },
  {
   "cell_type": "code",
   "execution_count": 11,
   "metadata": {},
   "outputs": [],
   "source": [
    "env.close()"
   ]
  },
  {
   "cell_type": "code",
   "execution_count": null,
   "metadata": {},
   "outputs": [],
   "source": []
  }
 ],
 "metadata": {
  "kernelspec": {
   "display_name": "Python 3",
   "language": "python",
   "name": "python3"
  },
  "language_info": {
   "codemirror_mode": {
    "name": "ipython",
    "version": 3
   },
   "file_extension": ".py",
   "mimetype": "text/x-python",
   "name": "python",
   "nbconvert_exporter": "python",
   "pygments_lexer": "ipython3",
   "version": "3.6.3"
  }
 },
 "nbformat": 4,
 "nbformat_minor": 2
}
